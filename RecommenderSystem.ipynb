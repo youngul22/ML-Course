{
 "cells": [
  {
   "cell_type": "markdown",
   "id": "48e890c0-1414-4ee1-9859-41cea6cf5717",
   "metadata": {},
   "source": [
    "# Recommender System\n",
    "Follow these instructions to complete the mini project.\n",
    "\n",
    "### Step 1 Download the Dataset\n",
    "Download the Dataset\n",
    "Method 1\n",
    "Download the dataset from the following link:\n",
    "https://www.kaggle.com/jealousleopard/goodreadsbooks/download\n",
    "\n",
    "### Step 2 Reading the Dataset\n",
    "Read the dataset into a Pandas Dataframe!\n"
   ]
  },
  {
   "cell_type": "code",
   "execution_count": 13,
   "id": "6c2b7f85-786c-4ea1-8fd7-182a363e0d8f",
   "metadata": {},
   "outputs": [],
   "source": [
    "import pandas as pd\n",
    "import numpy as np\n",
    "from sklearn.feature_extraction.text import TfidfVectorizer\n",
    "from sklearn.metrics.pairwise import cosine_similarity\n",
    "\n",
    "# Load dataset\n",
    "df = pd.read_csv(\"books.csv\", on_bad_lines='skip')\n",
    "df = df[['title', 'authors', 'average_rating', 'ratings_count']]\n",
    "df.dropna(inplace=True)"
   ]
  },
  {
   "cell_type": "code",
   "execution_count": 14,
   "id": "8cc25f4f-f5c2-4803-877e-992918df3b89",
   "metadata": {},
   "outputs": [
    {
     "name": "stdout",
     "output_type": "stream",
     "text": [
      "                                               title  \\\n",
      "0  Harry Potter and the Half-Blood Prince (Harry ...   \n",
      "1  Harry Potter and the Order of the Phoenix (Har...   \n",
      "2  Harry Potter and the Chamber of Secrets (Harry...   \n",
      "3  Harry Potter and the Prisoner of Azkaban (Harr...   \n",
      "4  Harry Potter Boxed Set  Books 1-5 (Harry Potte...   \n",
      "\n",
      "                      authors  average_rating  ratings_count  \n",
      "0  J.K. Rowling/Mary GrandPré            4.57        2095690  \n",
      "1  J.K. Rowling/Mary GrandPré            4.49        2153167  \n",
      "2                J.K. Rowling            4.42           6333  \n",
      "3  J.K. Rowling/Mary GrandPré            4.56        2339585  \n",
      "4  J.K. Rowling/Mary GrandPré            4.78          41428  \n"
     ]
    }
   ],
   "source": [
    "# View structure\n",
    "print(df[['title', 'authors', 'average_rating', 'ratings_count']].head())"
   ]
  },
  {
   "cell_type": "markdown",
   "id": "6fb47f21-c40a-45f4-b2c7-8a6e29323563",
   "metadata": {},
   "source": [
    "## Step 3 Popularity-based Recommender\n",
    "Create a function named Popularity Recommender and use it to recommend books based on popularity.\n",
    "Use a weighted rank similar to that used in the IMDB rating example in Lesson 2."
   ]
  },
  {
   "cell_type": "code",
   "execution_count": 15,
   "id": "d19d8327-963a-4527-b0c3-04dc2088ba2d",
   "metadata": {},
   "outputs": [],
   "source": [
    "def popularity_recommender(df, top_n=10):\n",
    "    C = df['average_rating'].mean()\n",
    "    m = df['ratings_count'].quantile(0.90)\n",
    "\n",
    "    popular_books = df[df['ratings_count'] >= m].copy()\n",
    "    \n",
    "    # IMDb weighted rating formula\n",
    "    popular_books['score'] = popular_books.apply(\n",
    "        lambda x: (x['ratings_count'] / (x['ratings_count'] + m)) * x['average_rating'] + \n",
    "                  (m / (x['ratings_count'] + m)) * C, axis=1)\n",
    "\n",
    "    return popular_books.sort_values('score', ascending=False)[['title', 'authors', 'average_rating', 'ratings_count', 'score']].head(top_n)"
   ]
  },
  {
   "cell_type": "code",
   "execution_count": 16,
   "id": "86361e31-8fe9-4cd9-a90e-fc19b2058dd1",
   "metadata": {},
   "outputs": [
    {
     "name": "stdout",
     "output_type": "stream",
     "text": [
      "🔝 Top 10 Popular Books:\n",
      "\n",
      "                                                  title  \\\n",
      "0     Harry Potter and the Half-Blood Prince (Harry ...   \n",
      "3     Harry Potter and the Prisoner of Azkaban (Harr...   \n",
      "1     Harry Potter and the Order of the Phoenix (Har...   \n",
      "4     Harry Potter Boxed Set  Books 1-5 (Harry Potte...   \n",
      "21    J.R.R. Tolkien 4-Book Boxed Set: The Hobbit an...   \n",
      "4244                                  The Complete Maus   \n",
      "6587                     The Complete Calvin and Hobbes   \n",
      "4254         The Two Towers (The Lord of the Rings  #2)   \n",
      "4415  Harry Potter and the Chamber of Secrets (Harry...   \n",
      "288   Fullmetal Alchemist  Vol. 1 (Fullmetal Alchemi...   \n",
      "\n",
      "                             authors  average_rating  ratings_count     score  \n",
      "0         J.K. Rowling/Mary GrandPré            4.57        2095690  4.562576  \n",
      "3         J.K. Rowling/Mary GrandPré            4.56        2339585  4.553447  \n",
      "1         J.K. Rowling/Mary GrandPré            4.49        2153167  4.483682  \n",
      "4         J.K. Rowling/Mary GrandPré            4.78          41428  4.463604  \n",
      "21                    J.R.R. Tolkien            4.59         101233  4.461126  \n",
      "4244                  Art Spiegelman            4.55         111475  4.438083  \n",
      "6587                  Bill Watterson            4.82          32213  4.435042  \n",
      "4254  J.R.R. Tolkien/Peter S. Beagle            4.44         593467  4.419743  \n",
      "4415      J.K. Rowling/Mary GrandPré            4.42        2293963  4.414813  \n",
      "288    Hiromu Arakawa/Akira Watanabe            4.50         111091  4.396878  \n"
     ]
    }
   ],
   "source": [
    "# test popularity_recommender\n",
    "print(\"🔝 Top 10 Popular Books:\\n\")\n",
    "print(popularity_recommender(df))"
   ]
  },
  {
   "cell_type": "markdown",
   "id": "fba38375-6fe2-485b-bf90-c4483c406421",
   "metadata": {},
   "source": [
    "## Step 4 Content-based Recommender\n",
    "Create a function named Content-based Recommender and use it to recommend books based on content.\n",
    "\n",
    "TF-IDF Vectorizer\n",
    "\n",
    "Use TF-IDF Vectorizer on the author data for each book.\n",
    "\n",
    "Distance matrix\n",
    "\n",
    "Choose cosine similarity for pairwise distances comparison."
   ]
  },
  {
   "cell_type": "code",
   "execution_count": 17,
   "id": "abcae2a4-54ec-41bd-874a-d0d55864ebf4",
   "metadata": {},
   "outputs": [],
   "source": [
    "def content_based_recommender(book_title, df, top_n=10):\n",
    "    # Clean missing values\n",
    "    df = df.reset_index(drop=True)\n",
    "    df['authors'] = df['authors'].fillna('Unknown')\n",
    "\n",
    "    # TF-IDF Vectorizer\n",
    "    tfidf = TfidfVectorizer(stop_words='english')\n",
    "    tfidf_matrix = tfidf.fit_transform(df['authors'])\n",
    "\n",
    "    # Cosine similarity\n",
    "    cosine_sim = cosine_similarity(tfidf_matrix, tfidf_matrix)\n",
    "\n",
    "    # Map titles to indices\n",
    "    indices = pd.Series(df.index, index=df['title']).drop_duplicates()\n",
    "\n",
    "    # Find index for given book title\n",
    "    idx = indices.get(book_title)\n",
    "\n",
    "    if idx is None:\n",
    "        return f\"Book '{book_title}' not found.\"\n",
    "\n",
    "    # Get pairwise similarity scores\n",
    "    sim_scores = list(enumerate(cosine_sim[idx]))\n",
    "    sim_scores = sorted(sim_scores, key=lambda x: x[1], reverse=True)\n",
    "    sim_scores = sim_scores[1:top_n + 1]\n",
    "\n",
    "    book_indices = [i[0] for i in sim_scores]\n",
    "    return df[['title', 'authors']].iloc[book_indices]\n",
    "    "
   ]
  },
  {
   "cell_type": "code",
   "execution_count": 18,
   "id": "8db6dc58-88ad-4e05-837c-7f2dad4e563c",
   "metadata": {},
   "outputs": [
    {
     "name": "stdout",
     "output_type": "stream",
     "text": [
      "\n",
      "📚 Books similar to 'The Catcher in the Rye':\n",
      "\n",
      "                                                  title  \\\n",
      "1462                             The Catcher in the Rye   \n",
      "1464                                   Franny and Zooey   \n",
      "1465  Raise High the Roof Beam  Carpenters & Seymour...   \n",
      "3273  Raise High the Roof Beam  Carpenters and Seymo...   \n",
      "4095  The Catcher in the Rye: Annotations and Study ...   \n",
      "4096                               Der Fänger im Roggen   \n",
      "0     Harry Potter and the Half-Blood Prince (Harry ...   \n",
      "1     Harry Potter and the Order of the Phoenix (Har...   \n",
      "2     Harry Potter and the Chamber of Secrets (Harry...   \n",
      "3     Harry Potter and the Prisoner of Azkaban (Harr...   \n",
      "\n",
      "                           authors  \n",
      "1462                 J.D. Salinger  \n",
      "1464                 J.D. Salinger  \n",
      "1465                 J.D. Salinger  \n",
      "3273                 J.D. Salinger  \n",
      "4095  J.D. Salinger/Rudolph F. Rau  \n",
      "4096  J.D. Salinger/Eike Schönfeld  \n",
      "0       J.K. Rowling/Mary GrandPré  \n",
      "1       J.K. Rowling/Mary GrandPré  \n",
      "2                     J.K. Rowling  \n",
      "3       J.K. Rowling/Mary GrandPré  \n"
     ]
    }
   ],
   "source": [
    "# test content_based_recommender\n",
    "book_to_check = \"The Catcher in the Rye\"  # Change as needed\n",
    "print(f\"\\n📚 Books similar to '{book_to_check}':\\n\")\n",
    "print(content_based_recommender(book_to_check, df))"
   ]
  },
  {
   "cell_type": "code",
   "execution_count": null,
   "id": "1737b9a0-5b57-490f-8d9b-7bd7d41f40bd",
   "metadata": {},
   "outputs": [],
   "source": []
  }
 ],
 "metadata": {
  "kernelspec": {
   "display_name": "Python 3 (ipykernel)",
   "language": "python",
   "name": "python3"
  },
  "language_info": {
   "codemirror_mode": {
    "name": "ipython",
    "version": 3
   },
   "file_extension": ".py",
   "mimetype": "text/x-python",
   "name": "python",
   "nbconvert_exporter": "python",
   "pygments_lexer": "ipython3",
   "version": "3.13.3"
  }
 },
 "nbformat": 4,
 "nbformat_minor": 5
}
